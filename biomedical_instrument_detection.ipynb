{
  "nbformat": 4,
  "nbformat_minor": 0,
  "metadata": {
    "colab": {
      "name": "Untitled1.ipynb",
      "provenance": [],
      "collapsed_sections": [],
      "authorship_tag": "ABX9TyNIWJq0gFBOosmryKt/kpHw",
      "include_colab_link": true
    },
    "kernelspec": {
      "name": "python3",
      "display_name": "Python 3"
    },
    "language_info": {
      "name": "python"
    },
    "accelerator": "GPU"
  },
  "cells": [
    {
      "cell_type": "markdown",
      "metadata": {
        "id": "view-in-github",
        "colab_type": "text"
      },
      "source": [
        "<a href=\"https://colab.research.google.com/github/sairamadithya/biomedical_instument_detection/blob/main/biomedical_instrument_detection.ipynb\" target=\"_parent\"><img src=\"https://colab.research.google.com/assets/colab-badge.svg\" alt=\"Open In Colab\"/></a>"
      ]
    },
    {
      "cell_type": "markdown",
      "metadata": {
        "id": "pLB04xMOCRz8"
      },
      "source": [
        "THE FOLLOWING STEPS ARE INVOLVED IN THE ENTIRE PROCESS OF IMAGE CLASSIFICATION\n",
        "\n",
        "1.IMPORTING LIBRARIES\n",
        "\n",
        "\n",
        "2.IMAGE PROCESSING\n",
        "\n",
        "\n",
        "3.MODEL CREATION\n",
        "\n",
        "4.MODEL COMPILATION\n",
        "\n",
        "5.MODEL TRAINING\n",
        "\n",
        "6.MODEL EVALUATION\n",
        "\n",
        "7.MODEL PREDICTION\n"
      ]
    },
    {
      "cell_type": "markdown",
      "metadata": {
        "id": "XKSh8rRx7ZjU"
      },
      "source": [
        "# STEP 1-importing essential libraries"
      ]
    },
    {
      "cell_type": "markdown",
      "metadata": {
        "id": "LzGjS_JLBna5"
      },
      "source": [
        "tensorflow is a deep learning framework suitable for applications involving neural networks.\n",
        "\n",
        "using tensorflow we can build,train,evaluate and predict our neural network."
      ]
    },
    {
      "cell_type": "code",
      "metadata": {
        "id": "PcnucHBI6JLh"
      },
      "source": [
        "#importing the essential libraries\n",
        "import tensorflow as tf\n",
        "import numpy as np\n",
        "import matplotlib.pyplot as plt\n",
        "from tensorflow.keras.layers import *\n",
        "from tensorflow.keras.models import * \n",
        "from tensorflow.keras.preprocessing import image"
      ],
      "execution_count": 1,
      "outputs": []
    },
    {
      "cell_type": "markdown",
      "metadata": {
        "id": "TfF41QNr7hzM"
      },
      "source": [
        "#loading the dataset"
      ]
    },
    {
      "cell_type": "markdown",
      "metadata": {
        "id": "mt5fDijX7VsA"
      },
      "source": [
        "the dataset is created by my own and it is present in the google drive. the following code can be used to mount the drive on the colab.\n",
        "\n",
        "after running the code, click onto the link to get the authorization code, copy paste the code and enter to mount the drive\n"
      ]
    },
    {
      "cell_type": "code",
      "metadata": {
        "colab": {
          "base_uri": "https://localhost:8080/"
        },
        "id": "UHFHLhcp7ASL",
        "outputId": "738dea3b-f35d-45bd-928f-75c55cfd7d2f"
      },
      "source": [
        "from google.colab import drive\n",
        "drive.mount('/content/drive')"
      ],
      "execution_count": 2,
      "outputs": [
        {
          "output_type": "stream",
          "text": [
            "Mounted at /content/drive\n"
          ],
          "name": "stdout"
        }
      ]
    },
    {
      "cell_type": "markdown",
      "metadata": {
        "id": "X27I0T7h_DRC"
      },
      "source": [
        "![Capture.PNG](data:image/png;base64,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)\n"
      ]
    },
    {
      "cell_type": "markdown",
      "metadata": {
        "id": "79DR-OAe7mhN"
      },
      "source": [
        "# STEP 2-image processing"
      ]
    },
    {
      "cell_type": "markdown",
      "metadata": {
        "id": "iCUdDQO_76e-"
      },
      "source": [
        "the imagedatagenerator is used to implement data augmentation. we can process the image as we want and create batches of image data.\n",
        "\n",
        "check this link for further details:- https://www.tensorflow.org/api_docs/python/tf/keras/preprocessing/image/ImageDataGenerator"
      ]
    },
    {
      "cell_type": "code",
      "metadata": {
        "id": "LxVVs9eR7DkV"
      },
      "source": [
        "#image moulding\n",
        "train_datagen = image.ImageDataGenerator(rescale = 1./255, shear_range = 0.2,zoom_range = 0.2, horizontal_flip = True,vertical_flip=True)\n",
        " \n",
        "test_dataset = image.ImageDataGenerator(rescale=1./255) #no transformations are applied to the testing dataset to maintain its originality"
      ],
      "execution_count": 3,
      "outputs": []
    },
    {
      "cell_type": "markdown",
      "metadata": {
        "id": "Zd2PsRtN8Vyt"
      },
      "source": [
        "The images in digital world have pixels whose intensities range from 0 to 255 where black being 0 and white being 255.The rescaling of 1./255 allows it to convert to decimals values ranging from 0 to 1."
      ]
    },
    {
      "cell_type": "markdown",
      "metadata": {
        "id": "H6TYU8WB9DGi"
      },
      "source": [
        "the flow_from_directory allow us to use the images availabe in the google colab files section. the dataset contains images of variable size. hence it is essential to reshape them to (224,224). (the input dimensions for pretrained model) \n",
        "\n",
        "the batch size is an important parameter which can affect the training time and accuracy. less batch size increases accuracy and training time and vice versa. the batch size is taken as powers of two."
      ]
    },
    {
      "cell_type": "code",
      "metadata": {
        "colab": {
          "base_uri": "https://localhost:8080/"
        },
        "id": "L2Log9B57DZX",
        "outputId": "7ecaf01f-dad2-47b5-8ed6-341367f57e78"
      },
      "source": [
        "# image addressing\n",
        "train_generator = train_datagen.flow_from_directory(\n",
        "    '/content/drive/MyDrive/Dataset/train',\n",
        "    target_size = (224,224),\n",
        "    batch_size = 32,\n",
        "    class_mode = 'binary')\n",
        "validation_generator = test_dataset.flow_from_directory(\n",
        "    '/content/drive/MyDrive/Dataset/val',\n",
        "    target_size = (224,224),\n",
        "    batch_size = 32,\n",
        "    shuffle=True,\n",
        "    class_mode = 'binary')"
      ],
      "execution_count": 12,
      "outputs": [
        {
          "output_type": "stream",
          "text": [
            "Found 611 images belonging to 2 classes.\n",
            "Found 89 images belonging to 2 classes.\n"
          ],
          "name": "stdout"
        }
      ]
    },
    {
      "cell_type": "code",
      "metadata": {
        "colab": {
          "base_uri": "https://localhost:8080/"
        },
        "id": "l-Ytn7Yc-Deh",
        "outputId": "bfb5c693-f77c-4dcd-bbc3-b4457bd416a6"
      },
      "source": [
        "train_generator.class_indices"
      ],
      "execution_count": 5,
      "outputs": [
        {
          "output_type": "execute_result",
          "data": {
            "text/plain": [
              "{'diagnostic': 0, 'therapeutic': 1}"
            ]
          },
          "metadata": {
            "tags": []
          },
          "execution_count": 5
        }
      ]
    },
    {
      "cell_type": "markdown",
      "metadata": {
        "id": "-Jisk-CzCMTI"
      },
      "source": [
        "#STEP 3-model creation "
      ]
    },
    {
      "cell_type": "markdown",
      "metadata": {
        "id": "-evLxn4gC88o"
      },
      "source": [
        "we are using the pretrained cnn meaning that the cnn is already trained on the imagenet dataset and has the weights stored in it. we are going to customise the model by adding additional layers of our choice(remember more layers can increase parameters leading to overfitting). "
      ]
    },
    {
      "cell_type": "markdown",
      "metadata": {
        "id": "JaDNh-2fD6uj"
      },
      "source": [
        "we are using the MobileNetV2 model for this application. this model was developed by google in 2017 and is known for its light memory. this model is ideal for devices with less RAM and processing power like microcomputers and mobiles."
      ]
    },
    {
      "cell_type": "code",
      "metadata": {
        "colab": {
          "base_uri": "https://localhost:8080/"
        },
        "id": "vU8U1no_C2nE",
        "outputId": "cca5e4d4-ab68-4c43-cf58-bde070f6e33f"
      },
      "source": [
        "base_for_model = tf.keras.applications.MobileNetV2(weights='imagenet', input_shape=(224,224,3), include_top=False)\n"
      ],
      "execution_count": 6,
      "outputs": [
        {
          "output_type": "stream",
          "text": [
            "Downloading data from https://storage.googleapis.com/tensorflow/keras-applications/mobilenet_v2/mobilenet_v2_weights_tf_dim_ordering_tf_kernels_1.0_224_no_top.h5\n",
            "9412608/9406464 [==============================] - 0s 0us/step\n"
          ],
          "name": "stdout"
        }
      ]
    },
    {
      "cell_type": "markdown",
      "metadata": {
        "id": "Z2O5Q9YUDuu_"
      },
      "source": [
        "input_shape=(224,224,3) => this is the input dimensions of the model. this is the parameter mentioned in the processing part. the 3 refers to the three channels R,G,B"
      ]
    },
    {
      "cell_type": "markdown",
      "metadata": {
        "id": "2mVoCJOUE5Hg"
      },
      "source": [
        "we are training it partially so as to reduce the traning time on the stake of accuracy. (it is better to train model fully for better results)"
      ]
    },
    {
      "cell_type": "code",
      "metadata": {
        "id": "WJeuRSXxEhR1"
      },
      "source": [
        "for layer in base_for_model.layers:\n",
        "    layer.trainable = False"
      ],
      "execution_count": 7,
      "outputs": []
    },
    {
      "cell_type": "markdown",
      "metadata": {
        "id": "EwEeoZL-E6fM"
      },
      "source": [
        "the sequential of the keras is used to stack the added layers of one's choice"
      ]
    },
    {
      "cell_type": "code",
      "metadata": {
        "colab": {
          "base_uri": "https://localhost:8080/"
        },
        "id": "p6lbrhzCEv7A",
        "outputId": "27691df2-23cc-4d1e-c09f-3b12610440d8"
      },
      "source": [
        "model = Sequential()\n",
        "model.add(base_for_model) #mobilenetv2\n",
        "model.add(GaussianNoise(0.1)) #to prevent overfitting\n",
        "model.add(GlobalAveragePooling2D()) #to converge and reduce the parameters\n",
        "model.add(Dense(64, activation = 'relu')) #hidden layer (relu activation function is suggested for images)\n",
        "model.add(Dropout(0.2)) #to prevent overfitting\n",
        "model.add(Dense(1, activation='sigmoid')) #output layer\n",
        "model.summary()"
      ],
      "execution_count": 21,
      "outputs": [
        {
          "output_type": "stream",
          "text": [
            "Model: \"sequential_1\"\n",
            "_________________________________________________________________\n",
            "Layer (type)                 Output Shape              Param #   \n",
            "=================================================================\n",
            "mobilenetv2_1.00_224 (Functi (None, 7, 7, 1280)        2257984   \n",
            "_________________________________________________________________\n",
            "gaussian_noise_1 (GaussianNo (None, 7, 7, 1280)        0         \n",
            "_________________________________________________________________\n",
            "global_average_pooling2d_1 ( (None, 1280)              0         \n",
            "_________________________________________________________________\n",
            "dense_2 (Dense)              (None, 64)                81984     \n",
            "_________________________________________________________________\n",
            "dropout_1 (Dropout)          (None, 64)                0         \n",
            "_________________________________________________________________\n",
            "dense_3 (Dense)              (None, 1)                 65        \n",
            "=================================================================\n",
            "Total params: 2,340,033\n",
            "Trainable params: 82,049\n",
            "Non-trainable params: 2,257,984\n",
            "_________________________________________________________________\n"
          ],
          "name": "stdout"
        }
      ]
    },
    {
      "cell_type": "markdown",
      "metadata": {
        "id": "zbYsA7SjFzJG"
      },
      "source": [
        "#STEP 4- model compilation"
      ]
    },
    {
      "cell_type": "code",
      "metadata": {
        "id": "2s7VWjQNFwh-"
      },
      "source": [
        "adam= tf.keras.optimizers.Adam(learning_rate=0.0001)\n",
        "model.compile(optimizer=adam,loss= 'binary_crossentropy', metrics='binary_accuracy')"
      ],
      "execution_count": 24,
      "outputs": []
    },
    {
      "cell_type": "markdown",
      "metadata": {
        "id": "_t6xS9Y9HoVp"
      },
      "source": [
        "#STEP 5- model training"
      ]
    },
    {
      "cell_type": "code",
      "metadata": {
        "id": "zFd4Qr4_I7OO"
      },
      "source": [
        "\n",
        "mp= tf.keras.callbacks.ModelCheckpoint(filepath='mymodel.hdf5', \n",
        "                               verbose=2, save_best_only=True)\n",
        "es= tf.keras.callbacks.EarlyStopping(monitor='val_loss', min_delta=0.05, patience=8)\n",
        "callback=[es,mp]"
      ],
      "execution_count": 10,
      "outputs": []
    },
    {
      "cell_type": "markdown",
      "metadata": {
        "id": "F4aJgCgzKAua"
      },
      "source": [
        "the modelcheckpoint is used to save the best model by saving the model which has the lowest loss\n",
        "\n",
        "the earlystopping is one of the callbacks used to prevent overfitting. it determines the ideal epoch and halts training at that time with the specified change(min_delta) and (patience) waiting epochs."
      ]
    },
    {
      "cell_type": "markdown",
      "metadata": {
        "id": "iluZid8QM1RV"
      },
      "source": [
        "TIP- ensure that the gpu (Graphics Processing Unit) is used so as to boost the training speed.\n",
        "\n",
        "Runtime-> change runtime type -> gpu\n",
        "\n",
        "![Capture.PNG](data:image/png;base64,iVBORw0KGgoAAAANSUhEUgAAAXoAAAESCAYAAADzBx6nAAAAAXNSR0IArs4c6QAAAARnQU1BAACxjwv8YQUAAAAJcEhZcwAADsQAAA7EAZUrDhsAAENWSURBVHhe7Z0HmBTF1obPLjkHEURQUAEVUcQAYkYwISoC5oCIXsXfq5gTKkaMGK4Bs5hQTCgqigmJZsAcUFBUEAMoeYHdf97D9NKMM7M7C5t6v/d5+pmZ7urq6urqr06dqqnK6t69e56lIC8v5aG1KGw4IcT6o2HDhvFvIspkZWXFv6UnXbjs+OdaINzpxDs4XlA4IYQQ60Zh9Tbd8UqtW7ceHP9eYCRCiLJD9erV499EVCis9R6QLnz4WL7rZsCAAda1a1erUaOGHxBCCFE+WbZsmU2cONGGDx/uv7Ox1BH5Hj16SOSFECIC0Nrr1q2b9e3b170x7qPHkhdCCBEtdt99d/90oZclL4QQ0SPox8lu0KCBfxFCCBE98l03Qgghokt2lSpV4l+FEEJEDTTeR90IIYSIJu66kdALIUR0kY9eCCEqALLohRAiwsh1I4QQEUdCL4QQEceFPjc3N/5TCCFE1EDjZdELIUSEketGCCEijlw3QggRcdx1s2rVqvhPIYQQUQONz65UqVL8pxBCiKiBxstHL4QQEcZ99PHvQgghIoqEXgghIo5cN0IIEWHkuhFCiAqAhF4IISKOhF4IISKOhF4IISKOOmOFECLCqDNWCCEqABJ6Uez88MMP9uKLL9r8+fPje4QQJYlcNwksXbrUBg4caJtvvrk988wz8b0lTzgdN954Y3xv+eOff/6xwYMH29lnn20PP/xwfK8QoqQoUdcNoolode7c2T7//PP43rVB0NZV2NZHHCI1qfJ3xowZtscee/jG94BatWpZp06d/JPzhBAlT4m7bn777Te78847beHChfE9Isowc97//d//2WeffWY9e/aM7xVClCSl4qMfO3asjRkzxpsUQgghipdS64y99957vZOuMFAhfPjhh9a/f3/beuutrU2bNnbsscfahAkTfPUUeP/99901MGzYMP/NZ6KLgXhwG51++ukeD1vfvn1t8uTJSSudnJwce+KJJ2y33XbzuA455BAbP378v8IWJn1hvvvuOzvrrLOsQ4cO+fGOHj3ar1cQnNu1a1c/b+jQoWnPWbZsmT300EP54bneJZdcYj/99FM8xBqWLFmyVti99trLbr311vwO1FT5e91113lfwn777We//PKLb3wPXDjJ+jyIs1evXr6P/CSPg+umyuM//vjDrrnmGr8H8pj8o5VAPInuIuIn7biMiJNPfhOHEBWREhf6Zs2a2c4772wzZ850sUcI0sEL/9xzz7lwvvPOO7Z8+XJbuXKlTZkyxYX1kUce8RVUqlWrZu3bt7cNN9zQz+OT3/Xq1fPfxPPCCy/Y4Ycfbq+99prHw4YYn3jiiX6NRHG5/vrr7bLLLrM5c+b4byqJk08+2VsjAYVNXwCVyhFHHOHC/vfff/s+4kW4brjhhrT5MW/ePLv88ss97xC40047zapWrRo/ujYI96BBg1wc//rrL9t222097FNPPeV5MG3atHjI1fEOGDDAwxI3zJ492/73v/95pcjxdPnbqFEj23LLLa1y5cq+8X2LLbawKlWqeNh0cE3yOLhukBeJ6fvvf//rFRF5Rh6Tf0cdddS/+nsIS5pJO3DfVIb85jlzX0JUNEpc6BEILLzNNtvMRo0a5eKYji+++MJuueUW/47wYrmxsQ/x4QX+9NNPbfvtt3ch7927t4flk9+nnnqq//7+++/dqqtevbqLL7+Jhzjhsccec5EI07hxYxcUwiIo/fr1cxHHAl2wYIGHKWz6gApjyJAhLlZnnHGGff311x73k08+aU2aNPE0pMoPhJvWCZY1FuoFF1xgNWvWjB/9N1i7L730km2zzTZ+DwxvJG4qiN9//91GjhxpK1as8Ero8ccf9woPHzpppaU1adIkvw7Xw9WWKn/xv1OhcJ/cAxvfyeMWLVp42HRssMEGbsEH19xxxx09f6gogYqUlgDpoMyEn8dxxx3nzyPMu+++62H33XdfTzf3/frrr/u9fPnll36+EBWNUnHdYPEhwLyk99xzT77FnAxEgA7cww47zIUoOzvbt4MOOsi6d+/uovDmm2/+yxpPBCHDrUAcuGKysrI8HtwMWKYI46xZs+KhV3PKKae4UBIWUT366KO9RYIYBmEzSR9WKhUDI49OOukkt7CJGxEKRAtxSrTqsUjvu+8+e/75513srrrqKq+E0oEVT3x169a12rVr+z7uAWuZCoV7IZ2I/ttvv+2CSwskCNu0aVNvecBHH31UYMurqGCpN2/e3L9zTVp7QLqohOi0R7iBijb8PPr06ePnhOE8qF+/vtWoUcO/k1dXXnml33e3bt18nxAViVIRel7UAw880EUW4cOiDLs3AhCXb7/91r/jmw27Kfi+0047+Xea4+mECMsV3zYMHz7cWrdu7b5bth122ME+/vhjP5bou05cTxcXxUYbbWSLFy92V0Om6aMygXbt2uW7lID8CMISL9Z7mBEjRtjdd9/t3y+66CJPf0EgiITDMsb6vv32272iIf1UdLg0uL+5c+fajz/+aH/++acdfPDB+fnCdu6553pc5Av+/uIg1ZrF+Nmp4EgX12d4JvkWhnyjsgpDJUre0gqgIsDdw7PHlcR9038iREWjVIQe6tSp41Y9L+Wjjz7qzfZ0pBIE+Pnnn91vmwos20A8N9lkE7fgk22ISTpwxWDRQ6LLIJP0ERaRSgaWeOI/SKkkguu98cYbaSu1gE033dTuv/9+O+CAA7yiQehx23Ts2NE7UgPhJl1UXNwblUOyfMHiTpXe4gYDgA0LPWhtpAMXE5V58H8N+gD2339/23PPPb1FlMygECLqlJrQAy8lYo/Q0DGLIKYi3QuKqOF7LwwIHy88/uXEDVdLOmgZIMRAp2OYTNJH2FSuJvowcKOEQYRxW1DJ0K/xyiuvFOiqAq5LS+CDDz7wyhRXDAKPrx9XUDjNDRs29FE8yfLljjvucKEtDagU2Uh3uso8gAppu+2281YirRnuk5YjLh1aQ/jshaholKrQ81IyAgTri5fy5Zdfjh9ZDT5WxAqmTp261lBCvuM7BgQwndATT9Bkx8rDbx4GwUsm1IsWLYp/Ww2dtbhWsPzxlWeavsDlkpgGRDsIm6zSOuGEE+zSSy91fzaWPf0adPimggrp2Weftdtuu83924j07rvv7p3FwXBT+izwf2+88cbWqlUr7yehczgR4ipNqPTIE1w4dKaGId/Cw1cxGHDVcN/kDx3D+OTJL/omyDtGPRWmwhAiSpSq0AMvMlZ9KrdJly5d3L3z6quvuiXLi83GCBI6LjnGyxy4FgJLm1Ec4X/f7rPPPv7iU6Hw4geuHMIgftdee+2/fONYhZ988okLCsfwldOhi8XYsmVLD5NJ+hhREvjNiYvKgLipJGhlkHasz6ATMQCLFl90jx493I9OZUMLKDG9AQxrpFLCEiccIgmkK+ispPKhpYDQM2YeEMjgfglL5XPMMcf4fwQCUuVvYHnTMb0+hzDi4tt11139Oy4n+nRIH6OeGP0U7sinXwSB574Z9RO4p6isgjH0lIFwX4oQFYFSF3qgkwyrNRm4d7BmscLoHEQsGZnBuG8sOKxchDeA44gRIot/ObBgGenD+RzDd028XJcw/EY4ELcwiCUdenTk0RHIpFycz5j5wJWRSfqwTK+44goX/5tuusmvjYhxDcT7+OOP94ojFYw0YTgjIs3QSSoXRC8ZxMlonnHjxnlFc+ihh7qvGp8118eNQ4WCODO6iLCkgfPoGOY+CINw0icQXCdV/iKg/JEJq5nRO4l/YioqVJD0LQTpo6LjedCJTodrUPEAFRwuLlpbVKRUYIyGYqglfnv2MzIqMAqEqCiUCaFHbBheSGdgIryUjBrBQkM8sNKwJHH3PPjgg/4nGM4PwEWBLxYxQwSClkIQD5YzQx/ZjzWIgCNW/MMzsbMPMb766qtdIICwDzzwgI8YCsg0fQg7lihpwEWDBUy8dJZeeOGF/7LmE6FFwJ+2EFTOCUYTJcKQQq7PGHf874z4warlugwzJH0B4bBbbbVVfmcwf0hivD0dmYE4pspfKqHzzz8/P17ysjB/mCoMpI+x+QxJ5bq0RBB85kyigglD/jz99NNewcL06dP9mTCclIo6cJ8JUZHIilk4eXS4CVGWoQ8lXGEC/nYMhLZt23oFzNBRIcTa0KotExa9EOnAhcY/ienbCNxrtIQQd8CNkzhSSQixBgm9KPN89dVX9t5773nfCH0ETICGi4j+B1wx9G2sLzeREFFEQi/KPHSqMv4dPzsjZuiU5Y9v+OHp75DfXYj0yEcvhBARRj56IYSoAEjohRAi4kjohRAi4kjohRAi4kjohRAi4kjohRAi4kjohRAi4kjohRAi4mSnmtNcCCFE+QeNzy7MOpxCCCHKJ2i8XDdCCBFxJPRCCBFxJPRCCBFxJPRCCBFxJPRCCBFxJPRCCBFxJPRCCBFxJPRCCBFxJPRCCBFxJPRCCBFxJPRCCBFxJPRCCBFxJPRCCBFxJPRCCBFxJPRCCBFxJPRCCBFxJPRCCBFxJPRCCBFhXnvtNQm9EEJEma5du0ZP6OfPn28nnXSSzZgxI76n4nLjjTf6JoSouFSpUqVkhH7p0qU2cOBAe+aZZ+J71sA+jhFGlB/ef/9969Wrl1esQoiyjVw3QggRccqc0P/yyy921lln2dZbb22dOnWyhx9+2FatWuXHsP4vvfRS3/r06ePWJMceeugh69Chg+2222729NNP2/Llyz383XffbTfddJPl5eX57zFjxtipp55qixcv9t9ffPGFHXnkkTZ37lyP5/nnn3d/Vps2baxv3772ww8/eDjABXLbbbfZySefnN8C+fPPP23QoEGeVq49evRoy83NjZ+xNp9//rnHSdxc45VXXslPV3Bt4uD46aef7vkAhBk/frwdeOCBtvnmm9uxxx7rcQUsWbLEbr/9dr9/NvIiJycnfnRt0qU32f2lSjNhjz76aJs2bZrtuOOObt3Db7/9tlb8TzzxRP6zw5V24okn2r333uvpDM4RQhQ/ZUroFy5caJdffrl17tzZRWbUqFH25ptv2sSJE+MhzF599VWvAO6//36rV6+evf76674999xzNnbsWKtRo0a+SCJC33//vYshgvPBBx/Yl19+aXPmzPHjP/30k22xxRa2wQYb+HWIY/jw4fb111/bQQcdZEOHDvVzAxDGE044wa666ioXyKuvvtratWtnn376qT366KMubO+991489Bp+/vlnGzx4sPXr18/jvuuuu+yBBx6wb775xo+/+OKLfm0qKe6b+x8yZIhfmzQjrDfffLN99913fn2ui6hyT8S1cuVKmzJliveuf/jhhx5fIsRVUHrD9/fHH3+kTPMFF1xgI0aMsO23394+/vhjfx48O8I3b97cpk6d6vfy8ssv2+OPP55fofEsfv/9d68wdthhB98nhCh+SlToL7zwQrdKwxv7AmrWrGm33HKLHX744VapUiVr2rSptW/f3sUkoGfPni7CDRo0cMsdcT/uuOM8rlq1almPHj2sZcuWHrZFixYucPPmzbO///7bLVpEFMFEfBBVrEs6K3bffXe77777XKiys7NdiLD0EdQArrPnnnta3bp1/dxly5bZwQcf7OdTYey///5Jhb5JkyYukpxL3KSL7auvvvLWBRUVljTXrlq1qt8j6VywYIGLd+/evW2bbbbxPOnSpYu3Zjhv5syZNn36dLfyq1ev7tc54ogj3FoOWjUBn332WYHpDd/fRhttlDLNyaACJU1HHXWUp4V7Of/88z39gR+f87nPjTfe2NMghCgZSlTob7jhBneHhDf2BSBk//zzj51zzjne/Ee8hw0b5hZrABY74QDhQow32WQT/w2IEhtgqSM4s2bNcuu9fv36XhF89NFHfh0s7bZt23pYhAfXDi4KrrvffvvlW80BtWvXjn9b3Rqgktl2223zKy0s5nBaAypXruzhsY5xgyDaL730kofFzYIok86AOnXquHhTmSGSW265ZfyIeUVARcj1qLgmT55su+66a34a+vfv7/EmupAKk97w/aVLczIIS+VB2gM23HBDr1D/+usv/03aq1Wr5t+FECVHmXLd0KzHwt9ll13cvUBFcNppp8WPZg7ijcWOK4ENKxnR4jrffvuti1BQSQTuE/oEcDEgio0aNfJjqcB6xZURrrhwayRCfFi3iCYWMX0DhxxySPzoukFLBF95OA342qkQEylsemF9pJlKIVXFIIQoOcqU0ONeQaAOOOAAF2mEOGxRJ4KLABfD7Nmz43vMLdmwNYvF/sknn9ikSZOsdevWbmWyIexY/Lh7ADcIwwU33XRTy8rK8msnWsVhGjdu7AIYWKtAeM5LBMs76FymNRKOO7ByaV0E0FIhzVj7WPWBLx/ID9w1XJc+CiqtX3/9NX40dRoySS+kS3MyyDcqB3z1AbRGeI4NGzaM7xFClAZlSugRbsQBUQ5813TIpoJKARcLHX5Yp5zDyBxcNQH4+RFOxIrvfO6000725JNPWseOHfPdQLh13n77be+oZWN0SFgUE6HvAF82o1zoB0Dg6DSlAzIR+h4QWfzkVGYvvPCCvfHGG36MigZfOf5wxB5x5x6IF5Gk0qOlgUWNyNNpfN1119mKFSvc/UKH8z333OOdp9znY4895n0NiRVkJumFdGkGxJu8o0LA9USFyr1QgZIO8vDOO+/09FNZCSFKj2yG9ZUV8FMzdJIRHogxI0joiGSoXyrLHpFkIxyiD82aNfNPwOrFL43QBdY7lj2/+QygIxKrdJ999vF/1tIZS2shsVMzgIoBoaSjF7Gl05J9++67bzzEGhjpcuaZZ9rZZ59te++9t1dmdIouWrTIjx966KGefoZ6ki4s+Msuu8zFlsoI98p5553nFjaCi9DT8Upr4KKLLvJ0cl3cVPjK6ZANKrCATNILBaWZZ8Wom+7du/tIKHzzjLrBjUQ66DCmv4NhmLSQhBClR1avXr3ysBiFEEJED4zIMuW6EUIIsf6R0AshRMSR0AshRMSR0AshRMSR0AshRMSR0AshRMSR0ItyySOP5Fi/foutQ4d/LCtrvm98Z9+LL66IhxJCgIRelCtGjVphm232tws6Yj9t2po/0vGdfT17LvIwhBVCSOhFOWLgwCV22GGLbNasXGvRIttuvbWmTZ1a1/LyGvjGd/ZxjDCEPfvsNesJCFFRkdCLcgEif/vtq6ejQMxnzaoX21fNtt9+zVQPfGcfxwgDt9223M8VoiJTqkLPjIjMDc/c60wfzBwpzPESXuyDRTSC+dODjelyx40blz+bInO4MBFYmHQLkovyBS6YQOSx2hFzCKx23DRsgbUPhCEscK7cOKIiU6pCz/J3l1xyiU8ixtS777zzjk/kxSRerK4UECxZxwyVTPjFuqTXXnutvfvuu/EQIsoEFjlWemDBI+h0viLgfGfjO/sCsSdsYNnLhSMqMqUm9EyVy5S6rFHKLIdMOcxsigMGDPDFKlgoJBlM3cuMjsccc4xPm8t0vaL0YGFyVutKhH0cW1foXP3xx9U++cCSB8R/wYI822uvyjZzZj3f+M6+sKuGcwKfvax6UVEpNaFnHnNcNLhrwiD2LFrN2qiibIOQs1HphsWe7+wLjq8L48atFueBA6v7Z8C4catXrnrkkVrWsmW2b3yH6dPXntI6OHfUqBz/FKKiUWpCzzzv+OgzXUOUc1jJaPTo0V5JYOGL0oFlBpkjn4XBA7EPRJ59HCPMuhAMn9x778r+GbBgQX0faYPAJzJ//tqrZgXnJlYAQlQEeCdL1UcfZsaMGbbHHnvkd7iGO1FZzILFMtjPAtQICYt8s2CHKD1YsWrEiBFriX1Y5DlGmHUhEOfw6Jpk4LKhMxbCLh4Izg2PuReiosAqcaUm9LVr1/aVh4IVi1q1amUTJkxIugh1uDOWjZE4dOCywpIoXRLFfn2KfGEJOmYR8r59q9rgwf9eGF2Iikp2dnbpCT1rjrKUH+vDplqgurBUrlzZBSa83CCuIRbObtSoUXyPKC7CYr++Rb59+4KtcTpfEXtEPvDThwnODeISoiJBv2epCT3W+Mknn2xjxoxxNw1+JMa+Y9FjtWciFHTcsmj22LFjPQ6GZjKih3VTt9tuu3goUZwEYr++LfnA7RJ0viYjmNvmtttWD6VMJDi3IPePEFEEHSxVHz0W/d133+1WfadOnXxh7Ouvv95OOeUU69atWzxUweDaYUHxp556yuNA+FkE+6abbrINNtggHkoUNwj8+hR52Hvv1Z3tt9++zD+TEUyBUL9+8kXIb7tt9bk9e8rVJyoeeDq0OLgo87Rs+bePpefPT4kdrcDMlYDYJ8IUCPxZavVY+nrxvUJUHDbeeOOyM+pGiFQELhkEO5ORM4QN/hGbyq0jRNShD1RCL8o8PXtWsbPOWm3JM7ommPcmIHDdhMGSJyxwLnEIURGhn1JCL8oFWOSB2DPKhknMEPywhc939nEssOQ5R9a8qMj4UHb56EV5gvlqEHp89unAJ4/Ay5IXFZ3evXvLohflC4SbTtUXXqjt4+bDY+P5zj6OEUYiL8RqSsSiZ9phIcKwhoAQovjBopfrRgghIoxcN0IIUQGQ0AshRMSR0AshRMSR0AshRMSR0AshRMSR0AshRMSR0AshRMSR0AshRMSR0AshRMSR0AshRMSR0AshRMSR0AtRALm5ubZ48WL/LE6WLVvmmxDrm0pbb7314COPPDL+s3h44okn7PHHH7c33nhjre27776zbbfd1ipXrhwPuX757LPPjAnbkl3jzTfftClTpvjqK7xcjz76qC8kXq9e2VtX9O+///ZF1Js1a7Ze0sf93nfffVa9enVr0qRJfG/hmD59uqclyDviCFi+fLmNHj06/1l/++23tvnmm1vNmukX/uBZ/PDDDx42FT/99JM/y1h5Lbbykopff/3Vhg8fbq1atbJatWrF965mfabr+eef9/i23HLL+B4h1p2RI0eWjEV/7LHH+rS0l156qW200UZ2xhln+O/TTz99LaEQZZucnBwX+J49e9oll1yyVqXDSvMvvviiLVq0yI9de+21LoxPPvmkLV26NB6qfEIFe84551jjxo3je4qHI444wg4++OD4LyHWHyVi0Qdg8U2dOtXatm2bLxIrVqywV155xS2md9991xey3XTTTS07e+06aMGCBXb//fe71TNz5kx75513rE6dOm6R/vzzz3bvvffaSy+9ZHPmzLE2bdp4XC+88IKfxzXD1ictjMmTJ9tvv/3mrQrS89VXX9mSJUv82NixY/36LVu2tKysLPviiy9s2LBhNmbMGA+DgIXTh4X8yCOP2Pfff29PP/20W6gcx6J96KGHPC0NGzb0So77C8f3yy+/uCVbrVo1T+uDDz7oFiKC2qhRI4/7rrvu8mMffPCBxxG2wtPFx72QfsIHVjzuB8R37ty59umnn/rxREv6xx9/9LwmP7/++mvPB6xV0kbef/755zZv3jzP0wB+T5o0yfr06WP169f3+yet5AGr0POsUqUTax74TaXw1FNP2YgRI2z8+PF+XcrDP//8Y19++aV98803fvyjjz7ydNWtW9fPTUZwvVdffdXTQbn466+/vPXGM69atapb0PzGIqey4rpslA/SzD1wbZ4j51OGiJdWDa0WygNlmLwIW/S0JikHQR6FW5DJnjOVSLhlw7OjXBPm5Zdf9nOw9MnX8PUp73xus802MppEUkrMok8HIshLP2jQIDv77LO9EE+bNi1+dDW8gIjOZpttZtdcc41169bNLUfgBeBl2H///e3qq6/2l/f111/3MMcff7yLAdZY2PqkhbHffvtZ+/btvVWB2CCEvNC0Ovr372+ffPKJi8Ls2bNdmPr162eXX365N+MR3ESwdhGGK664wvr27WtvvfWW7ye9WMD8Js3Ex4t73HHHeXpxF40aNcrv8bXXXvNKZMiQIfnnUEGce+65+S0h3FBh0sWXDNwo5Af5Qv6QT2Hmz59vzzzzjHXt2tXTscMOO9izzz7rFcpJJ52Ufx55GObPP/90oWF9ygDcHJzTvHnzQqeTCrxSpUoehnx87733PG74448/XCivu+4623HHHb0iT9Va4Bzyk3TyDBo0aGATJ070/KSMUMkDQk9FRFopYxzj2qT77bfftlmzZnm4AM6j4iAPrrrqKhdonn0mJHvOQXkOQ4V75pln+vMinWzBfWH9k04q8UyvLyoepSr0iCsWdZcuXVyAeBl32WUXt4bCAsBLgADttNNOVqVKFX8xg2Y0lQQvKRYZL2nnzp1dEIg7ExCpXXfd1ePHwsLSpQNuxowZXsFssskmnkbSF1igYTgfKxGR4uVDUEgTFtgWW2zhx7knLOTWrVu71ca1iI97Y+M3ljH3i6DxkoeFMxnp4isKiAuVIhUKae/QoYPvp4JLR0EdlYVNJ2Xh8MMP9zC4TCgTWM1AhUEek66dd97Z8zOoBBKhVTFgwID863EefR08B54nLTjO51liDS9cuNBbOXvvvbeH51pbbbWVGx5hsKA33HBDr/B41oQhzkwg/sI85913393LHK0WrkF4ngO/yUvyASsfQ0WIVFCGS1XoceVgkYU76yjQQXM4gBeUl7JGjRrxPWvgxaNZjiXOkoW4OXiJiHt9wIv1/vvve9xsuD1IT6YVScDvv/++VuuCl557454POuggPzZ06FC3FhNFJhnp4isKVJI8D+IBxIRKr6D4CJeOwqaTVhUuposuushbUFixyaCcIHjpKhhaA1deeWX+cwvABUMZQdi5PoYD1yWucBnjGjzrMOQPaUfki0pRnnMALYrw8xGiINCqUhV6LBGs8bCok6jEgsxLwYuVrJmO9Y21RjOYDl62xI7CdQHrbc8998yPe107kYkvXElw79wb90ychxxyiLt/jjnmGPe9IkDpSBcfIKaZQH4SR3Ae4ofbJogvFbhiSEfYBUGLCF80Yl1QOoFr0j+CtUpnLpU3lnkyiAu3XaoKhmvSB4FVzzPDVRcQtAbpuyFduNyoNPCxJ5bFxHKUmD/pCPIukaI85wBai1RO4XQKkQ5vBce/lwoUeNwavNwUXprxWGG4DcIWE81amvB0wFHAsbKxyACXCtYiVhEvFh2i+Dz5jggke9GA+FO9iGEQHeLGV0t4+g+w8IsKTX06M3EZcC/cL/eGJUlrBP8/acKKDuA7W7K0poqPDZGiAxNRCucZ+cKWTKxatGjhVivDKLlfxBCwetOBYOLuoD8DgSRuOmd5rhxLl84ArkdLDNHlfnHLhSsHOie5H8J9+OGHXn4QXsIkGgHEwzPGkOA4cQVwHh289MPgXuNaiH3QIUr6uBbuJtw6YShvuIsoD9wjYcJpDKACI7/p5yEPcFEC6Uz1nAtD0PogPvKBzun11XoV0QQDptRH3fDi0BylaU3h79ixo/tvw5Ya3xEgOm7pwOMFwuLHP8kLywvKyB0607Dk8LMSP+KJICA4+ELDvkyO0fGHr5aXGQHBn8t54XRyXV5aOigRMV4y/MiIRcDKlSu9XyHZ+cFvjpMG0oq4MTqHCg4hOuyww1xoeImD+0BAevTo4fkTdB5y702bNs23SAFRTBYf94cIcu8Me6Qy5D7wLXMdOvDoxEYM8VkHcB6+cTpOGROPVY7PHMua++S+yJPwyB/gGdHBiAAyaoXKFiE8+uijPY3p0hn0eVCpcm/cP/lAvnFN8oBnx7PlPngWGAWki76QcePGuRFA/gZwLcoJo1c+/vhjzzdaAIThnin89EfQWiNu0s/z4zmNHDnSKyU6+KkIws+PeHmmwT2Spwg2x8KjbgiDW5GObMogeUo4OrdTPecgH4J0kMds4Xzn+RE3eUBLgLIBxBt8FyIM/2vJ6tWrVx4vfFmHF5sXFEHkhUC8GJWBy0BUbKiUqHgTRxBFEax4KjDKPZUTlQ1GAC4g3g8hEsFDUi6EHksIixsLk6YwFg3D0hKb1aLigduESn/fffd16z7q4FYKxuTTKqNFi8in6ssQApdqubHohRBCZI4P845/F0IIEUHo15LQCyFEhPH+nPh3IYQQEQQfvYReCCEiDINXJPRCCBFh+FOehF4IISKOhF4IISKOhF4IISJOic51UxiYrInVfPi344QJE/xfscGKU8x1csstt/icM8zzwd+/g5WKCJe4Dir/mizq2qjJCK/YJFZDHj9aiuvtfvPNKvvvf5daly5VrGbNzCYIE6IiwNxNZcqiZxUilgrs3r27XX/99XbWWWf5zJH83TuAv3ozfS1TzzLXOH97Z+IoJn4SQgjxb0rMokewE9fvDM8ACczhweyAe+21l1vwzAzIEnrMOsjsfswcyZw3zNTHucwWyOyHwXSzHAvPrJhqtkVaBkz7wDnEwUyB/GbyH2ZXTLVWZ3hGwWTr1DKjJuGTrQfKTI7B2ri0RJi6Nrz2LNPXkj/cM/Ezrzu/OZdpmoNzw+vqMtdJ2JpmkQzWEmWmxLB1TbqZJ4gZGZkllE/uibwLp4sWFFMKB7NjBs+MFlQ4vdxjsH4vlTNWPfElWvTJ1p7lXtKlh3wI1owtzLqwf/6ZZ+PGrYwZB/+26BcvzrPrrltmvXsvtokTV9rOO1eO5RXTPVusxbjCjjhisQ0atDR2zTw/FssKu/jiZbHntipmRCy1Dh0q29Chy2PlJddOO22pXXvtMtt442xr27ZSrGUXv0iMSZNW2pAhy2zs2BV25JGsSpYbC5dl55yz1Pr3X2J//JFnu+9e2apWzbKFC/M8nj59FsfyfUWsbFaK3WN2LA/z1rp2586U7ayk6RciE0rMok+1fmcYJmtiwjLEJDxHNyLNVLKBIIbhHBaXYEZLBHJ9kWytzjAIHUKeuE4tpFoPFKEjHtbGZQ1YZuAM5igHRI6KBxFEyJmRkIqDiq4w6+oWBBUTS9OR/1QkzAcPxM21WM3phBNOcFHnNwLO98S1cslzBJ6KjXtkbdnwYiMBzDaabO3ZYN74ZOmh0qECYApjVl5isRCuxVTJmYJo33338lhZy46lvX4s36rHBHZpzFhggrxVsQo9J2Z01LZZs+rF8jbPJk9e3SJctCjPmjbNij3HOrF7zPbw8+blxSrBOrG01Y499xU2d+6/V7WaPTs39lyr2++/14/dT1ZMrJfZLbfUiBkB9Vzc33prpafpzjuXu4CTpoceqmX33LPc0wPha7dqVSll+oXIlBIR+lTrd4bhJUdEgqlWEbxg+T6s1GBxB0SW1YfYf9lll7l49urVa625wNeVZGt1hkm3Ti33xzSynMMc5cF6oNwXVjHhqOhwS7EYRxjyBYFk/VLmyaeSo9JLta4uU9YWlvB6rVjsXIcWAWvicr/cJ/PSI7qkP9VauYgu98bi3FS+tB6CFkCYgtaeTZYe4qaSYe1e8pX84Nqp1oVNB4L41VerYpVtFWMZgl12qRSzhrNjwpsbu3alWEujpjVvnh0zErJsjz0qu5hD3bpZsRZlZT8n+N2r1+o4sOaxN5KJbadOlWPPK9vDbbNNJf9N/LVqrY4Psf/rr9WVzDHHVPVwrVplW7duld1ah/C106VfiEwpEaEHLLZk63cG8MLzUiP4gEDgh2e1/TBhHz1+fJb1K+k56dOtU5tqPVAsYKxb3BJY5liuwb0G4DbBskfYEcR27dp5nFjB5E0AokylQcW4LhAvFQ+d39zHhRde6BUIYsv1k62VS3hcYjyvdBCONAfhEHsqLdKdCipxJmAi77gmLQnyOdEoKAzz5uXaJ5+sspYt/45dd35McBfE4l0WS1deLN/zYvecE6to//Fjfftm3mIoCn/9lRvLO1ZMW9Ni5XtQyYRJl34hMqVEhB6rO9X6nQFYvFh2WJK4LjIFIWFLFE/iYn8imVjDieB3x9pMtk4tIpxsPVDSgPsCAbv44os9T3DnhEEUqeBwp9BCIT8KWleX+yhKfgFxU0meeuqp+ffBxgIeVDq4zML7qVS5d9JWUCVDOMIEzyNIZ7jCSoQWFOeRR+HrkieZ0rAhrYhKsdZXvdh1G+Rvu+1W2SZPXuWjdaZMqeP7rrrq34vOFwekKVY8YpX3mueFu6Zx43/73dOlX4hMKRGhxypFyBEsRCq8fmcYmvdYcFj/CAPnsTQd4lnQ6jk09fGN0wGK64Pz6eQjDtwLYRAbXAVz5851MQqs7sKCOyPZOrW4HlKtB0onNMMzg7xIBe4MLG06W7lvtlTr6iLUiC55FqQjmb88FcTNvbCkInGTNvzytFhSrZVLfwitKpbnYz/PktZMIridsOozWXs2iHv8+PH+XHiOdOTySYVBGgtbqTVsmBW7t2wbOXJF7L7oM8hzfzifdNLWq5cVKwdZseeYZz/8sLZxUFyQpjZtKtnw4TmeJjpt33xzpXfUJpIu/UJkSokIPaLBi0/HG+PgEXxeXnzEYVjXs1+/fj7aAqsXVw8dtH369CnQVQCM1mGmNlw6nM96qYwoQjzCYMXutNNOPsaezlREJJP1NjmfjlY6YC+66CLvMGTUCPd16KGHulBxfYSdlY+wVPGxI1LcE/mAkCf66IE4yAdaDAHcF5UV5916662+stb222/vFcY+++zjFQstCkYfZbrKEu4kziFu0oZbhpYEo11IO6N6grzkHrkmLRYqF/ZTwdEHkQh9CazpynHCkTaeI66pVBA3+UrZoP/lpptu8niIn/6Be+65J2lFhi+7UaMF7uJgO+CARbZgQZ4NHEjnKCNgFsTycGEsX7NjZSErds+VY9fCVbbAzjhjSexZ8B+N4vd9c80zzqjmo3xI00knLY61cqvFnvW/K37Cpkq/EJmiFabKGAjo5MmTfYRSYSo3IYRIR+/evSX0ZQlaALhK6IDG4hfpwfXRunXmHbXlmYsuqm5DhpRMn4KIBhJ6IYSIOAh9iQ2vFEIIUTpI6IUQIuJI6IUQIuJI6IUQIuKUqNAzjpxx2vyxiPlL+Js9/xBljDQb39nHMcIQtrB/kBFCCJGcEhF6/nHJvyRnzpzpYs5cKsxfwr9kEfMAvrOPY4QhLOdwLnEIIYTInGITeixxrHIsdf4mz3wvRYVziSOYPVFWvhBCFJ5iEXqscixxrPL1DXESN9cQQghRMOtV6Jm8CjdLMOd4ccI1uBbXFEIIkZr1JvT41/n7/rq4aDKFa3HNsJ9fCCHE2qwXoaejlI7T0oJrq7NWCCGSs85Cj8Cmml++JCENEnshhPg36yT0uEzKgsgHkBa5cYQQYm2KLPR0gpamuyYVpEkdtEIIsYYiCz0rP5VVynLahBCipCmS0DOGvSRH12QKadM4eyGEWE3GQs+/UktinPy6Qhr1D1ohhCiC0LMSf3mhPKVVCCGKi+wff/wx/rVwFMe0BsVFeUqrEEIUB2h8VufOnfMmT54c35Weoo6Zf/311+2+++7zWSmLQr169ew///mP7b///vE9hadZs2ZWrVq1+C8hhKhY7LrrrpadiQguXLgw/i0z1kXkgXOJoygUNc1CCBEF0PisfffdN2/s2LHxXamhY5NZI4tCt27d/PPNN9/0z0xZ1/M322wzy8rKiv8SQoiKw3777WfZVapUif9Mz6pVq+Lfyh/rmnaGak6fPr1UhmwuXbrUBg4caO+//358T/Ezf/5869WrV/41n3nmGU8DaakozJgxw0466STPi/LIvHnz7Ouvvy6RkWcF5RU+4kz7AkuDG2+80ct6cUDekEfkVUmDxmdXqlQp/jM95Wkeme+++84uuugi9+kfdthhdvPNN6/TCztnzhy77LLLPF5AABHC8ioCZQleLrb1hZ7Nat577z276aabbNGiRfE9649Mn9moUaPswQcftBUrVsT3lAwqC6tB47NjxH+mp7z8AenLL7+0wYMH21577WVPP/203X333b4G7eWXX15kfz2un5deesm23Xbb+B4hyjaHHHKIi2udOnXie0qPs846y6666iq3LEXJg8YXWujLg0WPxfDqq6/a4YcfbgcccIDVr1/fmjZtav379/dpESZOnOjhaJ5deumlNmTIENt6661tt912s1deecU+/PBDO/DAA61NmzZeOKkggOYWLQM+sWSOPvpomzZtmu24445JXSq4ip5//nmPl7hOP/30/NFKNKU/+ugjO/LII23zzTf3z6lTp/ox4Dhp4dwOHTrYXXfd9a8KivDB+ccee2x+SyMR4ho/frzfUxD2888/jx81v79Bgwbl58Ho0aMznieooPshv8LN4SAvP/74Y7e2hg0b5ltgeXH8xBNPtEceecTTRNqGDh2ab2gQV9ia5BzO5TkU9GzYz/FgiozZs2f7uV988YX/ZpnKU0891d555x3/TV5MmTLF8490UF7C/81I9RxIE8108pP9ieUpEZbI7Nu3r4fr2rXrWs+B+yZ/OnXq5Gk4++yzPZ6cnBy78MIL18rbuXPn2lFHHeUuG/YH7rbCpIc0BMcor7fccsu/3HVBXic+M0iXVzyX8DOjvFARkW98fvDBB0ldTNzDlVdeaQ899JC/C8F7GoTlmq+99lr+O3vaaaf5+hSQqiwUVObJQ/KG+IiXtAbQOrr99ts9LWx8D5eHgo6Hoaz06NHD389k974+caEvbCdleZgVkhWn8AW2a9durc7XmjVr+kPloQeZStOWTl72XXDBBf7waQEgMByjucPvRAg7YsQI23777V2seAETefHFF+25557z8xHWzp075xd8RIUWBy8RD3vAgAF23nnn5Qsw6bnnnnu8kJCObbbZxj755BM/Bt9++61dd9113kL55ptv/OW8+uqr7ffff4+HWAMvEAUe1xXXOuGEEzws/y8gLXwnrz799FN79NFH7YknnvBrZkJB95MKhsxSGfJysvG9QYMGfoyXlefHIAFebATk2Wef9WPpKOjZbLrppm5V4ooDKhXym1YgUAEgbK1atfLf33//vffN8BwZIsxzePfdd/1YQc9hwYIFPniASoo8pdwlK09U4tdee62LCnl5xx13+PMnXcBz4Vpcn7RssskmLrKUz7333tsmTZqUL8ako1GjRn6fiaRLD8cQVN4R7pHKJFk54Pmkembp8irMzz//bNdff72dc845Xl74JN+odJOB22fjjTf29BCOeycOIP4HHnjAbrvtNs878gOR5vkmKwuFKfNc7/jjj7fPPvvM3xeeDe8Lxtutt97qFRuGABtaQ4XIsYKOh6H/hHcGg2aPPfYo9oEixF/of8aWB6HHyqEAJzYRSfuGG27oDyywDBH5nXbayYce7b777v5yYKE0adLEGjZs6OLMC5ZpByRWIQX95JNPtubNm1vVqlWtZ8+eHh9z8IwZM8Zf6l122cVfVlxMXJf9WBa8jBzHCiFtHKcwAPdGJdK9e3evALhPjlORJXZ2Ubiwdnr37u1huVaXLl2sT58+nkYKMnlx8MEHezxbbLGF92kke8FTQXrS3Q/Hi0LLli3d2qlVq5ZbfbxwEyZM8HSvC1Qu3CfPlbRhrdHaIy9oDTJtxgYbbOBiCS1atLB+/fpZ3bp1vXzsvPPO9tVXXxXqOfCd/34E5YlniNWc2DKmbLKvbdu2Hs9WW21lN9xwg5dXroOFjtjQOqUsBQYLFQSCRcXCRlgqdp4D104kXXqoIBBBrlW7dm1r3bq1HXHEEfEzC0eqvEqEMke53nLLLb28MMb7iiuu8Osmg3dn33339XOwkvnkPea95BnQEiIu8o5yR/4FLfdEClPmTznllHxdoLXRuHFjr7QYcUjlQMuIZ8GGccM+jhV0PIAyjPFF/tCyLW6RDyi00EcNClmQyTRt+M22rlDZ8PIg8gH4SbH4EBpcOLzUwbX5RMzYj2XFJ7/DxwP3GoWU41glhGGj3wDLN9FqIB1YF7wEAQgFbi3OYzpnzuP8IC7izaRCD9KT6n44XhS8qRlyKfLykqfc07rA8+3YsaO/fOQ1wo5Y850mPZb9dtttZzVq1PDw5BcvfBjypzDPIdW5YTcBIIy4axAYrDxaLwgtljt5WblyZRs+fLhbpFwHdwTXQNg32mgjF1isWf5rglWNSCUjXXooC/yxMLjvopAq/kS4DuWFSgXBI+0IOJVPMkhT+L0kvdw/z4AWPHkSQBrIj1TDwAtT5sPXonLE6MAlQ/kgjRgCAYg56eNYQceBtOMx4Dnh8lsfelNYCi30FLiyDg+alyOxd5+0Y/VgzVSvXj2+t+yQqSDit8caC2/JXEgFwcuGNReOhybvulJUgU8FAp9MNIoCIkrTH4HB7UAlgvWMX5u8QHQKy/p4DrzsWMIvv/yyn/vwww/bcccd5y0DBA1XBS0QWkjEjzsiAKsUyxxLHvFAaJO5bcoSCN8ll1xiTz75pIsybpwzzjgj39e/rhRU9tZnmUe407X4E49TYdCCYVw7Lq5E46w4iZTQ0+Sm8OAfxuIJwBrEisNfF1iexUVg2QR+RKDw0fxDrLBosByD9PGJZcl+LAA+KXzh4xQYIG5EibjChSRZgSEsQkahDiAcflR80TRJaVqH5+7nOuF8KwgqzXT3E1Sq61qg8WnixuGegPgySWcYOuex1PDN0iGH8OC648XDQsRKLohMnkNBkP+4kGjt4QLDP49LAfGmgsMKxfoLLN7Ea+C+oVKgU5HyncxtUxCMKiMdvCfFDb543k/ymfu699573aVJZZYJlC3ed96VAPILtw73k4zClPlw/uLOor8ItxKWOucF1jkEU7VzrKDjQOsNQwK3GG6kZAM5iotCC31is6wsgoVDU5zeevzTNMnpmGH6BGpW/OTrA146XAs81MSXA0HC70cnEWJP4SM9jBzAeuNlxg9PBxGFiqY6QzfZT5z0HWC9cZy48ffjnwbO5/64N+LgfAo6HVAIQhjCMvKITmGsV8JyDh2ItHjat2/vBY90UaDx+dKUxrIsLFSa6e6H47x0NJd5DjwP8gJBDcAC5TfXD14y7ok4qCDJQ54f+ULeEp78oCMVfyfhwh2/6Z4NIIS41RBXXAhA5ysWMUIQbnqnIpPnUBBYefjg6bxDdBAqhJtng3HFJ/mHiNB5SSsiDB2V5PEbb7zhbqmiwP1zT/i8SQ/XGTlyZPzov0n2zAoL51188cVucHC/PF/2ZVpBUUEfeuih9vjjj3veU6ap7HiOVNyQWBYKU+bvv/9+LxuEp2xhZOywww6ex7j1MBA4j7JMuWQfxwo6HoYyRt8Cz5LnXRIUWujLossjGby8+DrpkcdiYKgYGUvPPBbz+gChoGbmZWc4ZyIUQDpBuT6FC6uaP1xRmOm8o6Azrhg3AqNreNHZD1hljFxBNOhYo+BS0AI4Tk8+hYTz/+///s8tBHy6ifDi0yxlFAzW6wsvvOBCjwuLvKCQU5Dp+N1zzz19Hx1fmVDQ/Rx00EHuC6WzkjzhxQusU6DyRdjoIAtEktYAFTO+a9KDe4LjgA+aDmU6yvbZZx8fDocFHFDQs6HyIQ7yI8gzLEPKDedhLBSGTJ5DOhBN/MS4MnAj4VrgXqnYSAvlACGkLFCuuS/2B5UYAo2wYdnjTy4KPHfKJxUKZY3RI3QWpiLZMyss5Btlknuhgjn//PPt3HPP9fRnCmUKNxf9G5Q3Kjs6smm1QWJZKEyZp/P3sccecz8+bjJGI/G+kM+MRgLOY2ADrTr2cayg44nQqc7zpjLItLIsClm9evXKw+orCNwOmT7UAAotYP0UhXU9n5epPLiexOohj1RGiGgwdE8UP4hNWJDoK6Bfa3302YjSxQ2s+PcCSVYrlRfKc9qFKG5wCzGeHZcFgo+rDxdb4AIR5Z9CW/RAEzLoYMgEapR1maYY6KwqbDrD4JMLxkWLso8s+tKBfg7mxqGPBfcTY8Bxu+FqE+Ub9DcjoccvyPjhTKFDEV+UFh4RQoiSJWOhh/BwpvJA+A8VQghR0cjIRx9AD3R5oTylVQghiouMhb4of8goLcpTWoUQorjIWOgZh8yfNMo6pLG4/wUrhBDlgSJ1qfPnKUazlFVIW3n5g5cQQhQ3RR47Ff53Y1mjLKdNCCFKmiILPeNr+cdpWYM0aeyvEEKsYZ0UkWkFGKdeViAtmupACCHWZp1NX/6MVBbEXn+MEkKI5KwXHwcCW5puHK4tkRdCiOSsN2c2LhOmSS3J0Thci2vKXSOEEKlZr72WdIIygVhJjLPnGlxLHa9CCJGeYlFJxrCzqkpxTEFAnMStcfJCCFE4is0c5l+pLP3GpGJ0lK6LS4dziYO4iFP/eBVCiMJTIn4POkpxs2CJ03GKVc7Uw1jlYf8639nHMcIQlnM4V52tQghRNDKeplgIIUT5oUjTFAshhChfSOiFECLiSOiFECLiSOiFECLiSOiFECLiSOiFECLiSOiFECLiSOiFECLiSOiFECLiSOiFECLiSOiFECLiSOiFECLiSOiFECLiSOiFECLiSOiFECLiSOiFECLiSOiFECLiSOiFECLiSOiFECLiSOiFECLiSOiFECLiSOiFECLiSOiFEEVi/vz51qtXL7vxxhvje0RZRUIvRBknNzfXXnvtNTvkkENs8803t06dOtmwYcNsyZIl8RCiKMxZkGeDnllmB9642Lpet9h637bEHpu4wlblxgNECAm9EGWYvLw8e/755+3cc8+19u3b2yOPPGJ9+/a1hx9+2AYPHmxLly6NhxSZsHBpnl31/DKbOmuV7bdtZTu9W1XbvHG2PTohx+5/JyceKjpI6IUow/z8889233332VFHHeXCvueee9rpp59u//3vf23MmDH2zTffeGUwefJkO/LII93i79q1q40ePdpbAlQEAwcOtAEDBtj//vc/69Chg+222272yiuv+HmQk5NjTzzxhO9v06aNx//LL7/4McKMHz8+vzVx7LHH2ueff+7HyjPfzM21n/7Mtb22rmxnH1jNenesYpcdVs1aNMq2Kd+tsr8W57nFf+nIZbb/9Yut25DF9p8HltrMebleSfC977ClHg7e+mKl7RcL9+C41ZXEN3Ny7eRYGM7rftNiG/ZWjuWs9EOlgoReiDLM7NmzbcaMGS7elSpViu816969u7tvmjRp4mKPxb/tttvauHHjXJQvv/xymz59ejx0TIjeesuWL19uQ4cOta222spuv/12r0QQ8hEjRtjNN99s/fv3tzvuuMPmzJlj11xzjbuGpk2b5nFTwdCaaNGihf/+6aef4jGXTxrWyrLqVbLsox9W2fSfVvm+ujWy7IFTatjw02pYnepZNvTV5fbp7Fw7tWtVO/+gavbHojwbOmZ57DmYtW9RyRYsybO5scoAPp65ympUzbLOrSvb3L9XtxZyVpj9p0tV22uryjbqoxX25OTSaylI6IUowwSWdVjkoWHDhm6BN23a1Jo3b26vvvqqXXjhhbbpppvaQQcdZLVr1/YKIuCAAw5wS71Lly523HHH2axZs+y3336zhQsXeiXQs2dPdwkR7swzz3SrnUrmpZdesh122MFbBIj9SSed5BXAxx9/HI+5fIKb5oQ9qtjCZXl27hPL7Kg7l7jVjXgHDDygqj30nxp22M5VbP/tKlubjbLdyl8Qs+J33KySrViZZ5/PXuUW/oxYC2GThlm22YZZNv6rlfZnrFL4zz5V7IhdqrhbaNMNVrcUFi9fE39JIqEXopxTs2ZNe//99613797uXtlvv/3yK4iA7Oxsy8rK8u+EX7lypa1atcrmzZtnM2fOtLZt2+ZXJlQGEyZM8Erk+++/tzfeeMNbC+G4Ob+8c+iOVWzEGTWtT8cq/vvZD1bYicOW2ocxK79KLCtwtVz9wnI74PrVnbXsD9iqabY1qZ9tU39cZT/+mWu//ZNnHVpWcqv+6zm5tiIW9Irnlvt5PW9dYt/Py421nuhYj0dQwkjohSjDNGvWzD8R5TB//fWXTZo0yd0s7733nl188cV29NFHuxtn7Nix+eetC4GP/9BDD7UpU6a4FR9sPXr0iIcq39SvmWWnda1qT8UE/+o+1W1VTIyHj8+xef/k2pCXltu8v3Nt6HHV7c1LatnOm69pVdWvlWXbNs+2H//ItUnfrrLc2Hmdtlh9fPmKPKsZE/zLD6tmjw2okb9de2R1q11jdWVb0kjohSjDbLLJJtaqVSsX9bDY42457bTT3P2ChY2rZuedd7YqVaq43x2RLgyNGze2zTbbzL788sv8+L/77ju75557bNGiRda6dWv74YcffH+DBg18w/KvXr267yuvDJ+Q4x2lr0xb0zJpFxPupvWyvIN13t+xyjT22XLDbNum+WoBR8zDdIwJ+8JlsWfx+Uo/j45caBOz9pfGxP73hXm2cYNs32pXz7Ja1cxKR+Yl9EKUafC/n3DCCd4Rev311/sImLvvvts7Tw888EDbcsstrW7dum7hjxo1yt555x0Ph6VfGOrUqeMdvZw7fPhwr0AuueQS78itV6+eW/N0vF5xxRUeN8M6cRFNnTo1HkP5ZM+tKluj2lk27M0cu/21HO8sveHl5fbD77nWqkm2NapDZ22s0vst1x6dsMJuHL3cpv+4dquqbawCoFMXfzyds3Xi1vo+bSvbhrHzh49fYfe+nePnn3z/Uhv6ak6pjdGX0AtRhsGvjksG8Z44caKdeOKJLsj9+vXz4ZY1atSwbt26+UgYhkgOGjTIO2nbtWvnHa7BEMpUBPGfd9559uCDD9oZZ5zhlcuVV17plUDHjh19hM6vv/7qo3JGjhzpnbWM6S/PbBaz1G88pnpMoLPttU9X2P/G5tj0n3Jt33aV7fwe1Wyj+ll2bvdqVjVmzD86MccFHwt+aU6e/RofaYPIbxNrBVAhdGq1xq2zyQbZNrh3dWsSi+OZ91fYE5NyrPVG2dZ/76pWqZQUN6tXr155zz33XPynEEKIKEELTBa9EEJEHAm9EEJEHAm9EEJEnOzgTxRCCCGiBxovi14IISKOhF4IISKOhF4IISKOhF4IISKOhF4IISKOhF4IISKOhF4IISKOhF4IISKOhF4IISKOhF4IISKOhF4IISKO5roRQogIo7luhBCiAiChF0KIiONCv3TpUv8hhBAiOgTa7j76d999138IIYSIDmg7Gl+pXbt2gz/55BOrW7euNWvWzKpUqRIPIoQQojyCJf/WW2/Zgw8+aNnZ2fb/j+Z6HylHkc4AAAAASUVORK5CYII=)"
      ]
    },
    {
      "cell_type": "code",
      "metadata": {
        "colab": {
          "base_uri": "https://localhost:8080/"
        },
        "id": "9xrqU7r0HkO7",
        "outputId": "250fa831-03ad-481c-f245-b5e293b3bfac"
      },
      "source": [
        "history = model.fit(\n",
        "    train_generator,\n",
        "    steps_per_epoch=19, #steps_per_epoch= training_images/batch_size= 611/32=19\n",
        "    epochs = 15, #own choice\n",
        "    validation_data = validation_generator,\n",
        "    validation_steps=1,\n",
        "    callbacks=callback\n",
        ")"
      ],
      "execution_count": 25,
      "outputs": [
        {
          "output_type": "stream",
          "text": [
            "Epoch 1/15\n",
            "19/19 [==============================] - 13s 589ms/step - loss: 0.6520 - binary_accuracy: 0.6595 - val_loss: 0.6548 - val_binary_accuracy: 0.5938\n",
            "\n",
            "Epoch 00001: val_loss did not improve from 0.27286\n",
            "Epoch 2/15\n",
            "19/19 [==============================] - 11s 557ms/step - loss: 0.5834 - binary_accuracy: 0.7133 - val_loss: 0.6053 - val_binary_accuracy: 0.5938\n",
            "\n",
            "Epoch 00002: val_loss did not improve from 0.27286\n",
            "Epoch 3/15\n",
            "19/19 [==============================] - 10s 539ms/step - loss: 0.5362 - binary_accuracy: 0.7306 - val_loss: 0.4773 - val_binary_accuracy: 0.8125\n",
            "\n",
            "Epoch 00003: val_loss did not improve from 0.27286\n",
            "Epoch 4/15\n",
            "19/19 [==============================] - 10s 548ms/step - loss: 0.5030 - binary_accuracy: 0.7496 - val_loss: 0.5062 - val_binary_accuracy: 0.7188\n",
            "\n",
            "Epoch 00004: val_loss did not improve from 0.27286\n",
            "Epoch 5/15\n",
            "19/19 [==============================] - 11s 575ms/step - loss: 0.4702 - binary_accuracy: 0.7772 - val_loss: 0.4179 - val_binary_accuracy: 0.8438\n",
            "\n",
            "Epoch 00005: val_loss did not improve from 0.27286\n",
            "Epoch 6/15\n",
            "19/19 [==============================] - 11s 571ms/step - loss: 0.4448 - binary_accuracy: 0.7796 - val_loss: 0.3425 - val_binary_accuracy: 0.8750\n",
            "\n",
            "Epoch 00006: val_loss did not improve from 0.27286\n",
            "Epoch 7/15\n",
            "19/19 [==============================] - 11s 544ms/step - loss: 0.4284 - binary_accuracy: 0.7876 - val_loss: 0.4001 - val_binary_accuracy: 0.8750\n",
            "\n",
            "Epoch 00007: val_loss did not improve from 0.27286\n",
            "Epoch 8/15\n",
            "19/19 [==============================] - 10s 532ms/step - loss: 0.3910 - binary_accuracy: 0.8221 - val_loss: 0.2985 - val_binary_accuracy: 0.9375\n",
            "\n",
            "Epoch 00008: val_loss did not improve from 0.27286\n",
            "Epoch 9/15\n",
            "19/19 [==============================] - 10s 534ms/step - loss: 0.3563 - binary_accuracy: 0.8221 - val_loss: 0.3264 - val_binary_accuracy: 0.8750\n",
            "\n",
            "Epoch 00009: val_loss did not improve from 0.27286\n",
            "Epoch 10/15\n",
            "19/19 [==============================] - 10s 532ms/step - loss: 0.3603 - binary_accuracy: 0.8342 - val_loss: 0.4259 - val_binary_accuracy: 0.7812\n",
            "\n",
            "Epoch 00010: val_loss did not improve from 0.27286\n",
            "Epoch 11/15\n",
            "19/19 [==============================] - 11s 562ms/step - loss: 0.3469 - binary_accuracy: 0.8549 - val_loss: 0.3119 - val_binary_accuracy: 0.9062\n",
            "\n",
            "Epoch 00011: val_loss did not improve from 0.27286\n",
            "Epoch 12/15\n",
            "19/19 [==============================] - 11s 572ms/step - loss: 0.3309 - binary_accuracy: 0.8717 - val_loss: 0.2657 - val_binary_accuracy: 0.9688\n",
            "\n",
            "Epoch 00012: val_loss improved from 0.27286 to 0.26567, saving model to mymodel.hdf5\n"
          ],
          "name": "stdout"
        },
        {
          "output_type": "stream",
          "text": [
            "/usr/local/lib/python3.7/dist-packages/tensorflow/python/keras/utils/generic_utils.py:497: CustomMaskWarning: Custom mask layers require a config and must override get_config. When loading, the custom mask layer must be passed to the custom_objects argument.\n",
            "  category=CustomMaskWarning)\n"
          ],
          "name": "stderr"
        },
        {
          "output_type": "stream",
          "text": [
            "Epoch 13/15\n",
            "19/19 [==============================] - 10s 514ms/step - loss: 0.3125 - binary_accuracy: 0.8636 - val_loss: 0.3385 - val_binary_accuracy: 0.9062\n",
            "\n",
            "Epoch 00013: val_loss did not improve from 0.26567\n",
            "Epoch 14/15\n",
            "19/19 [==============================] - 10s 517ms/step - loss: 0.3035 - binary_accuracy: 0.8739 - val_loss: 0.2741 - val_binary_accuracy: 0.9375\n",
            "\n",
            "Epoch 00014: val_loss did not improve from 0.26567\n",
            "Epoch 15/15\n",
            "19/19 [==============================] - 10s 532ms/step - loss: 0.2846 - binary_accuracy: 0.8774 - val_loss: 0.3418 - val_binary_accuracy: 0.8438\n",
            "\n",
            "Epoch 00015: val_loss did not improve from 0.26567\n"
          ],
          "name": "stdout"
        }
      ]
    },
    {
      "cell_type": "markdown",
      "metadata": {
        "id": "Fpsg2Mg5LMI2"
      },
      "source": [
        "using earlystopping we were able to train the model within 4 minutes."
      ]
    },
    {
      "cell_type": "code",
      "metadata": {
        "colab": {
          "base_uri": "https://localhost:8080/"
        },
        "id": "uXsbaMVKMJzW",
        "outputId": "2cf440d1-68a4-4f0d-a380-6271fdcfe285"
      },
      "source": [
        "print(history.history.keys())\n",
        "import matplotlib.pyplot as plt\n",
        "acc=(history.history['binary_accuracy'])\n",
        "loss=(history.history['loss'])\n",
        "val_acc=(history.history['val_binary_accuracy'])\n",
        "val_loss=(history.history['val_loss'])\n",
        "\n"
      ],
      "execution_count": 26,
      "outputs": [
        {
          "output_type": "stream",
          "text": [
            "dict_keys(['loss', 'binary_accuracy', 'val_loss', 'val_binary_accuracy'])\n"
          ],
          "name": "stdout"
        }
      ]
    },
    {
      "cell_type": "code",
      "metadata": {
        "colab": {
          "base_uri": "https://localhost:8080/",
          "height": 312
        },
        "id": "SNJ9c-VSNcfR",
        "outputId": "5882afaa-4bf3-4f7f-a405-f49cefae327d"
      },
      "source": [
        "\n",
        "plt.plot(acc)\n",
        "plt.plot(val_acc)\n",
        "plt.title('ACCURACY COMPARISON')\n",
        "plt.xlabel('epoch')\n",
        "plt.ylabel('accuracies')\n",
        "plt.title('ACCURACY COMPARISON')\n",
        "plt.legend(['train','validation'])\n",
        "\n",
        "\n",
        "\n"
      ],
      "execution_count": 27,
      "outputs": [
        {
          "output_type": "execute_result",
          "data": {
            "text/plain": [
              "<matplotlib.legend.Legend at 0x7f3cc48f1510>"
            ]
          },
          "metadata": {
            "tags": []
          },
          "execution_count": 27
        },
        {
          "output_type": "display_data",
          "data": {
            "image/png": "[encoded data removed]",
            "text/plain": [
              "<Figure size 432x288 with 1 Axes>"
            ]
          },
          "metadata": {
            "tags": [],
            "needs_background": "light"
          }
        }
      ]
    },
    {
      "cell_type": "code",
      "metadata": {
        "colab": {
          "base_uri": "https://localhost:8080/",
          "height": 312
        },
        "id": "1FNVXgkWN_Tv",
        "outputId": "d780c666-76bf-438a-b0b1-bd0c29807aef"
      },
      "source": [
        "plt.title('LOSS COMPARISON')\n",
        "plt.plot(loss)\n",
        "plt.plot(val_loss)\n",
        "plt.xlabel('epoch')\n",
        "plt.ylabel('losses')\n",
        "plt.legend(['train','validation'])"
      ],
      "execution_count": 28,
      "outputs": [
        {
          "output_type": "execute_result",
          "data": {
            "text/plain": [
              "<matplotlib.legend.Legend at 0x7f3cc38b42d0>"
            ]
          },
          "metadata": {
            "tags": []
          },
          "execution_count": 28
        },
        {
          "output_type": "display_data",
          "data": {
            "image/png": "[encoded data removed]",
            "text/plain": [
              "<Figure size 432x288 with 1 Axes>"
            ]
          },
          "metadata": {
            "tags": [],
            "needs_background": "light"
          }
        }
      ]
    },
    {
      "cell_type": "markdown",
      "metadata": {
        "id": "rCP1QcDpO1-W"
      },
      "source": [
        "#STEP 6- MODEL EVALUATION"
      ]
    },
    {
      "cell_type": "code",
      "metadata": {
        "colab": {
          "base_uri": "https://localhost:8080/"
        },
        "id": "OTsDZ6JrO1ba",
        "outputId": "6f870448-9751-4ae3-ca4d-4e2823b5b087"
      },
      "source": [
        "model.evaluate(train_generator)"
      ],
      "execution_count": 29,
      "outputs": [
        {
          "output_type": "stream",
          "text": [
            "20/20 [==============================] - 10s 492ms/step - loss: 0.2743 - binary_accuracy: 0.9002\n"
          ],
          "name": "stdout"
        },
        {
          "output_type": "execute_result",
          "data": {
            "text/plain": [
              "[0.2743445038795471, 0.9001636505126953]"
            ]
          },
          "metadata": {
            "tags": []
          },
          "execution_count": 29
        }
      ]
    },
    {
      "cell_type": "markdown",
      "metadata": {
        "id": "1Radnxz7PEZ6"
      },
      "source": [
        "the model has produced a training loss of 0.27 and training accuracy of 90%"
      ]
    },
    {
      "cell_type": "code",
      "metadata": {
        "colab": {
          "base_uri": "https://localhost:8080/"
        },
        "id": "vHaP_rvWO-ah",
        "outputId": "800e0373-c90b-4310-bdce-4d53b0240a10"
      },
      "source": [
        "model.evaluate(validation_generator)"
      ],
      "execution_count": 30,
      "outputs": [
        {
          "output_type": "stream",
          "text": [
            "3/3 [==============================] - 1s 337ms/step - loss: 0.2987 - binary_accuracy: 0.8764\n"
          ],
          "name": "stdout"
        },
        {
          "output_type": "execute_result",
          "data": {
            "text/plain": [
              "[0.29869285225868225, 0.8764045238494873]"
            ]
          },
          "metadata": {
            "tags": []
          },
          "execution_count": 30
        }
      ]
    },
    {
      "cell_type": "markdown",
      "metadata": {
        "id": "1L7Ho7WLPDY7"
      },
      "source": [
        "the model has produced a validation loss of 0.29 and validation accuarcy of 87%"
      ]
    },
    {
      "cell_type": "markdown",
      "metadata": {
        "id": "C7q8F63fPRfn"
      },
      "source": [
        "#STEP 7- MODEL PREDICTION"
      ]
    },
    {
      "cell_type": "markdown",
      "metadata": {
        "id": "ZNE7o_FwQrGV"
      },
      "source": [
        "1. take any image of biomedical equipment and save the image\n",
        "\n",
        "2. upload the image in the files section and test the model"
      ]
    },
    {
      "cell_type": "code",
      "metadata": {
        "colab": {
          "base_uri": "https://localhost:8080/"
        },
        "id": "d6QjKV9rPdKZ",
        "outputId": "e0787f1e-fd06-4046-fc1b-a011a21d4543"
      },
      "source": [
        "img = image.load_img('abc.jpeg',target_size=(224,224))\n",
        "img = image.img_to_array(img)\n",
        "img = np.expand_dims(img,axis=0)  \n",
        "ypred = model.predict(img)\n",
        "if ypred>0.5:\n",
        "  ypred=1\n",
        "else:\n",
        "  ypred=0  \n",
        "ypred\n"
      ],
      "execution_count": 37,
      "outputs": [
        {
          "output_type": "execute_result",
          "data": {
            "text/plain": [
              "1"
            ]
          },
          "metadata": {
            "tags": []
          },
          "execution_count": 37
        }
      ]
    },
    {
      "cell_type": "markdown",
      "metadata": {
        "id": "GzPr6GnpRtqD"
      },
      "source": [
        "0-diagnostic equipment\n",
        "1-therapeutic equipment"
      ]
    }
  ]
}